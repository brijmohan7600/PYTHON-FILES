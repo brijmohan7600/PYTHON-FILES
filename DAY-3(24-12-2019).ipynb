{
 "cells": [
  {
   "cell_type": "markdown",
   "metadata": {},
   "source": [
    "# python programming\n",
    "## python programming\n",
    "### python programming\n",
    "#### python programming\n",
    "##### python programming"
   ]
  },
  {
   "cell_type": "markdown",
   "metadata": {},
   "source": [
    "1. a\n",
    "2. b\n",
    "3. c\n",
    "   1. d\n",
    "   2. e\n",
    "   3. f"
   ]
  },
  {
   "cell_type": "markdown",
   "metadata": {},
   "source": [
    "[python](https://www.geeksforgeeks.org/python-programming-language/)"
   ]
  },
  {
   "cell_type": "markdown",
   "metadata": {},
   "source": [
    "[MSD](https://i10.dainikbhaskar.com/thumbnails/730x548/web2images/www.bhaskar.com/2019/12/23/ms-dhonijpg2_1577086094.jpg)"
   ]
  },
  {
   "cell_type": "markdown",
   "metadata": {},
   "source": [
    "- kasturi\n",
    "- pinky"
   ]
  },
  {
   "cell_type": "code",
   "execution_count": 3,
   "metadata": {},
   "outputs": [
    {
     "name": "stdout",
     "output_type": "stream",
     "text": [
      "hello sir!!\n"
     ]
    }
   ],
   "source": [
    "print(\"hello sir!!\")"
   ]
  },
  {
   "cell_type": "code",
   "execution_count": 9,
   "metadata": {},
   "outputs": [
    {
     "name": "stdout",
     "output_type": "stream",
     "text": [
      "<class 'int'> <class 'int'>\n"
     ]
    },
    {
     "data": {
      "text/plain": [
       "1618"
      ]
     },
     "execution_count": 9,
     "metadata": {},
     "output_type": "execute_result"
    }
   ],
   "source": [
    "a=10\n",
    "b=20\n",
    "print(type(a),type(b))\n",
    "a=1598\n",
    "a+b"
   ]
  },
  {
   "cell_type": "code",
   "execution_count": 11,
   "metadata": {},
   "outputs": [
    {
     "name": "stdout",
     "output_type": "stream",
     "text": [
      "a variable7.67\n",
      "b variable7.88\n"
     ]
    },
    {
     "data": {
      "text/plain": [
       "15.55"
      ]
     },
     "execution_count": 11,
     "metadata": {},
     "output_type": "execute_result"
    }
   ],
   "source": [
    "a=float(input('a variable'))\n",
    "b=float(input ('b variable'))\n",
    "a+b"
   ]
  },
  {
   "cell_type": "code",
   "execution_count": 17,
   "metadata": {},
   "outputs": [
    {
     "name": "stdout",
     "output_type": "stream",
     "text": [
      "enter name:rayappan\n",
      "enter age:57\n",
      "name rayappan\n",
      "age 57\n"
     ]
    }
   ],
   "source": [
    "name=(input(\"enter name:\"))\n",
    "age=int(input(\"enter age:\"))\n",
    "print(\"name\",name)\n",
    "print(\"age\",age)"
   ]
  },
  {
   "cell_type": "code",
   "execution_count": 27,
   "metadata": {},
   "outputs": [
    {
     "name": "stdout",
     "output_type": "stream",
     "text": [
      "enter name:rayapan \n",
      "enter age:57\n",
      "name is : rayapan  age is: 57\n"
     ]
    }
   ],
   "source": [
    "name=input(\"enter name:\")\n",
    "age=input(\"enter age:\")\n",
    "print(\"name is : \"+name+\" age is: \"+age)"
   ]
  },
  {
   "cell_type": "code",
   "execution_count": 29,
   "metadata": {},
   "outputs": [
    {
     "name": "stdout",
     "output_type": "stream",
     "text": [
      "\n",
      "Here is a list of the Python keywords.  Enter any keyword to get more help.\n",
      "\n",
      "False               class               from                or\n",
      "None                continue            global              pass\n",
      "True                def                 if                  raise\n",
      "and                 del                 import              return\n",
      "as                  elif                in                  try\n",
      "assert              else                is                  while\n",
      "async               except              lambda              with\n",
      "await               finally             nonlocal            yield\n",
      "break               for                 not                 \n",
      "\n"
     ]
    }
   ],
   "source": [
    "help(\"keywords\")"
   ]
  },
  {
   "cell_type": "code",
   "execution_count": null,
   "metadata": {},
   "outputs": [],
   "source": []
  }
 ],
 "metadata": {
  "kernelspec": {
   "display_name": "Python 3",
   "language": "python",
   "name": "python3"
  },
  "language_info": {
   "codemirror_mode": {
    "name": "ipython",
    "version": 3
   },
   "file_extension": ".py",
   "mimetype": "text/x-python",
   "name": "python",
   "nbconvert_exporter": "python",
   "pygments_lexer": "ipython3",
   "version": "3.7.4"
  }
 },
 "nbformat": 4,
 "nbformat_minor": 2
}
